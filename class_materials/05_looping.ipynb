{
  "cells": [
    {
      "cell_type": "markdown",
      "id": "0",
      "metadata": {
        "id": "0"
      },
      "source": [
        "# Looping and Control Statements\n",
        "\n",
        "[![Open In Colab](https://colab.research.google.com/assets/colab-badge.svg)](https://colab.research.google.com/github/giswqs/geog-312/blob/main/book/python/05_looping.ipynb)\n",
        "\n",
        "## Overview\n",
        "\n",
        "This lecture introduces looping and control statements in Python, focusing on their applications in geospatial programming. Loops and control statements are essential tools for automating repetitive tasks, making decisions based on data conditions, and efficiently processing large geospatial datasets. By mastering these concepts, you will be able to handle complex geospatial analysis tasks with greater efficiency and precision.\n",
        "\n",
        "## Learning Objectives\n",
        "\n",
        "By the end of this lecture, you should be able to:\n",
        "\n",
        "- Understand and implement `for` loops to iterate over sequences such as lists and tuples.\n",
        "- Use `while` loops to perform tasks until a specific condition is met.\n",
        "- Apply control statements (`if`, `elif`, `else`) to execute different blocks of code based on data conditions.\n",
        "- Combine loops and control statements to filter, process, and analyze geospatial data.\n",
        "- Develop the ability to automate repetitive geospatial tasks, making your data processing workflows more efficient.\n",
        "\n",
        "## For Loops\n",
        "\n",
        "For loops allow you to iterate over a sequence (such as a list, tuple, or string) and execute a block of code for each item in the sequence. This is particularly useful in geospatial programming when you need to process multiple features or coordinates."
      ]
    },
    {
      "cell_type": "code",
      "execution_count": 2,
      "id": "1",
      "metadata": {
        "colab": {
          "base_uri": "https://localhost:8080/"
        },
        "id": "1",
        "outputId": "6ed37a87-23d1-4e08-fd92-1d1027ae7c67"
      },
      "outputs": [
        {
          "output_type": "stream",
          "name": "stdout",
          "text": [
            "Start\n",
            "Processing 1/3\n",
            "Latitude: 35.6895, Longitude: 139.6917\n",
            "Processing 2/3\n",
            "Latitude: 34.0522, Longitude: -118.2437\n",
            "Processing 3/3\n",
            "Latitude: 51.5074, Longitude: -0.1278\n",
            "Done\n"
          ]
        }
      ],
      "source": [
        "coordinates = [\n",
        "    (35.6895, 139.6917),\n",
        "    (34.0522, -118.2437),\n",
        "    (51.5074, -0.1278),\n",
        "]  # List of tuples representing coordinates\n",
        "\n",
        "print(\"Start\")\n",
        "index = 1\n",
        "for lat, lon in coordinates:\n",
        "    print(f\"Processing {index}/{len(coordinates)}\")\n",
        "    index += 1\n",
        "    print(f\"Latitude: {lat}, Longitude: {lon}\")\n",
        "print(\"Done\")"
      ]
    },
    {
      "cell_type": "markdown",
      "id": "2",
      "metadata": {
        "id": "2"
      },
      "source": [
        "Assuming you have a function to calculate distances, you can use a loop to compute distances from a reference point."
      ]
    },
    {
      "cell_type": "code",
      "execution_count": 3,
      "id": "3",
      "metadata": {
        "colab": {
          "base_uri": "https://localhost:8080/"
        },
        "id": "3",
        "outputId": "48314909-b4ad-4883-80dc-bd7701f57445"
      },
      "outputs": [
        {
          "output_type": "stream",
          "name": "stdout",
          "text": [
            "Distance from (0, 0) to (35.6895, 139.6917): 144.18\n",
            "Distance from (0, 0) to (34.0522, -118.2437): 123.05\n",
            "Distance from (0, 0) to (51.5074, -0.1278): 51.51\n"
          ]
        }
      ],
      "source": [
        "def calculate_distance(lat1, lon1, lat2, lon2):\n",
        "    # Placeholder for distance calculation logic\n",
        "    return ((lat2 - lat1) ** 2 + (lon2 - lon1) ** 2) ** 0.5\n",
        "\n",
        "\n",
        "reference_point = (0, 0)  # Reference point (latitude, longitude)\n",
        "\n",
        "for lat, lon in coordinates:\n",
        "    distance = calculate_distance(reference_point[0], reference_point[1], lat, lon)\n",
        "    print(f\"Distance from {reference_point} to ({lat}, {lon}): {distance:.2f}\")"
      ]
    },
    {
      "cell_type": "markdown",
      "id": "4",
      "metadata": {
        "id": "4"
      },
      "source": [
        "## While Loops\n",
        "\n",
        "While loops continue to execute a block of code as long as a specified condition is true. They are useful when the number of iterations is not known beforehand, such as when processing data until a certain condition is met."
      ]
    },
    {
      "cell_type": "code",
      "execution_count": 4,
      "id": "5",
      "metadata": {
        "colab": {
          "base_uri": "https://localhost:8080/"
        },
        "id": "5",
        "outputId": "c5a517d8-5de4-4023-b586-ac1751861e30"
      },
      "outputs": [
        {
          "output_type": "stream",
          "name": "stdout",
          "text": [
            "Processing coordinate: (35.6895, 139.6917)\n",
            "Processing coordinate: (34.0522, -118.2437)\n",
            "Processing coordinate: (51.5074, -0.1278)\n"
          ]
        }
      ],
      "source": [
        "counter = 0\n",
        "while counter < len(coordinates):\n",
        "    lat, lon = coordinates[counter]\n",
        "    print(f\"Processing coordinate: ({lat}, {lon})\")\n",
        "    counter += 1"
      ]
    },
    {
      "cell_type": "code",
      "source": [
        "counter = 2\n",
        "while True:\n",
        "  counter += 2\n",
        "  if counter > 20:\n",
        "    break\n",
        "  print(f\"Counting {counter} times\")"
      ],
      "metadata": {
        "colab": {
          "base_uri": "https://localhost:8080/"
        },
        "id": "pgNEof_tLVSE",
        "outputId": "2c66e3f9-a360-4043-ee92-367f99f92a07"
      },
      "id": "pgNEof_tLVSE",
      "execution_count": 3,
      "outputs": [
        {
          "output_type": "stream",
          "name": "stdout",
          "text": [
            "Counting 4 times\n",
            "Counting 6 times\n",
            "Counting 8 times\n",
            "Counting 10 times\n",
            "Counting 12 times\n",
            "Counting 14 times\n",
            "Counting 16 times\n",
            "Counting 18 times\n",
            "Counting 20 times\n"
          ]
        }
      ]
    },
    {
      "cell_type": "code",
      "source": [
        "counter = 0\n",
        "while True:\n",
        "  counter += 1\n",
        "  if counter % 2 != 0:\n",
        "    print(f\"Counting {counter} times\")\n",
        "  if counter > 20:\n",
        "    break"
      ],
      "metadata": {
        "id": "8NpSjmRDN8v5",
        "outputId": "630c2bb9-0e79-4cb0-d1b9-065fd7aed227",
        "colab": {
          "base_uri": "https://localhost:8080/"
        }
      },
      "id": "8NpSjmRDN8v5",
      "execution_count": 5,
      "outputs": [
        {
          "output_type": "stream",
          "name": "stdout",
          "text": [
            "Counting 1 times\n",
            "Counting 3 times\n",
            "Counting 5 times\n",
            "Counting 7 times\n",
            "Counting 9 times\n",
            "Counting 11 times\n",
            "Counting 13 times\n",
            "Counting 15 times\n",
            "Counting 17 times\n",
            "Counting 19 times\n",
            "Counting 21 times\n"
          ]
        }
      ]
    },
    {
      "cell_type": "markdown",
      "id": "6",
      "metadata": {
        "id": "6"
      },
      "source": [
        "## Control Statements: if, elif, else\n",
        "\n",
        "Control statements allow you to execute different blocks of code based on certain conditions. In geospatial programming, this is useful for handling different types of data or conditions."
      ]
    },
    {
      "cell_type": "code",
      "execution_count": null,
      "id": "7",
      "metadata": {
        "id": "7"
      },
      "outputs": [],
      "source": [
        "for lat, lon in coordinates:\n",
        "    if lat > 0:\n",
        "        print(f\"{lat} is in the Northern Hemisphere\")\n",
        "    elif lat < 0:\n",
        "        print(f\"{lat} is in the Southern Hemisphere\")\n",
        "    else:\n",
        "        print(f\"{lat} is near the equator\")"
      ]
    },
    {
      "cell_type": "markdown",
      "id": "8",
      "metadata": {
        "id": "8"
      },
      "source": [
        "You can further categorize based on longitude:"
      ]
    },
    {
      "cell_type": "code",
      "execution_count": null,
      "id": "9",
      "metadata": {
        "id": "9"
      },
      "outputs": [],
      "source": [
        "for lat, lon in coordinates:\n",
        "    if lat > 0:\n",
        "        hemisphere = \"Northern\"\n",
        "    else:\n",
        "        hemisphere = \"Southern\"\n",
        "\n",
        "    if lon > 0:\n",
        "        direction = \"Eastern\"\n",
        "    else:\n",
        "        direction = \"Western\"\n",
        "\n",
        "    print(\n",
        "        f\"The coordinate ({lat}, {lon}) is in the {hemisphere} Hemisphere and {direction} Hemisphere.\"\n",
        "    )"
      ]
    },
    {
      "cell_type": "markdown",
      "id": "10",
      "metadata": {
        "id": "10"
      },
      "source": [
        "## Combining Loops and Control Statements\n",
        "\n",
        "You can combine loops and control statements to perform more complex operations, such as filtering data or applying conditions during iteration."
      ]
    },
    {
      "cell_type": "code",
      "execution_count": null,
      "id": "11",
      "metadata": {
        "id": "11"
      },
      "outputs": [],
      "source": [
        "filtered_coordinates = []\n",
        "for lat, lon in coordinates:\n",
        "    if lon > 0:\n",
        "        filtered_coordinates.append((lat, lon))\n",
        "print(f\"Filtered coordinates (only with positive longitude): {filtered_coordinates}\")"
      ]
    },
    {
      "cell_type": "code",
      "execution_count": null,
      "id": "12",
      "metadata": {
        "id": "12"
      },
      "outputs": [],
      "source": [
        "southern_count = 0\n",
        "for lat, lon in coordinates:\n",
        "    if lat < 0:\n",
        "        southern_count += 1\n",
        "print(f\"Number of coordinates in the Southern Hemisphere: {southern_count}\")"
      ]
    },
    {
      "cell_type": "markdown",
      "id": "13",
      "metadata": {
        "id": "13"
      },
      "source": [
        "## Exercises\n",
        "\n",
        "1. Create a list of cities with their coordinates. Write a for loop to print out only the cities that are in the Northern Hemisphere.\n",
        "2. Write a while loop that continues to print the coordinates in a list until a coordinate with a latitude less than 0 is found.\n",
        "3. Create a for loop that iterates through a list of coordinates and prints whether each coordinate is in the Eastern or Western Hemisphere based on the longitude.\n",
        "4. Combine a for loop and if statements to count how many coordinates in a list are located in the Southern Hemisphere.\n",
        "5. Write a program that generates random coordinates (latitude and longitude) and prints them until a coordinate with both latitude and longitude greater than 50 is generated."
      ]
    },
    {
      "cell_type": "code",
      "execution_count": null,
      "id": "14",
      "metadata": {
        "id": "14"
      },
      "outputs": [],
      "source": []
    },
    {
      "cell_type": "markdown",
      "id": "15",
      "metadata": {
        "id": "15"
      },
      "source": [
        "## Summary\n",
        "\n",
        "Loops and control statements are fundamental tools in geospatial programming. They allow you to process and analyze geographic data efficiently by automating repetitive tasks and applying logic based on data conditions. Practice these concepts by applying them to your geospatial datasets and analyses."
      ]
    }
  ],
  "metadata": {
    "kernelspec": {
      "display_name": "Python 3",
      "language": "python",
      "name": "python3"
    },
    "language_info": {
      "codemirror_mode": {
        "name": "ipython",
        "version": 3
      },
      "file_extension": ".py",
      "mimetype": "text/x-python",
      "name": "python",
      "nbconvert_exporter": "python",
      "pygments_lexer": "ipython3",
      "version": "3.11.8"
    },
    "colab": {
      "provenance": []
    }
  },
  "nbformat": 4,
  "nbformat_minor": 5
}