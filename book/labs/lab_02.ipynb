{
  "cells": [
    {
      "cell_type": "markdown",
      "id": "0",
      "metadata": {
        "id": "0"
      },
      "source": [
        "# Lab 2\n",
        "\n",
        "[![Open In Colab](https://colab.research.google.com/assets/colab-badge.svg)](https://colab.research.google.com/github/giswqs/geog-312/blob/main/book/labs/lab_02.ipynb)\n",
        "\n",
        "This notebook contains exercises based on the lectures on [**String Operations**](https://geog-312.gishub.org/book/python/04_string_operations.html) and [**Looping and Control Statements**](https://geog-312.gishub.org/book/python/05_looping.html). These exercises will help reinforce the concepts of string manipulation, loops, and conditionals in geospatial contexts."
      ]
    },
    {
      "cell_type": "markdown",
      "id": "1",
      "metadata": {
        "id": "1"
      },
      "source": [
        "## Exercise 1: Manipulating Geographic Location Strings\n",
        "\n",
        "- Create a string that represents the name of a geographic feature (e.g., `\"Amazon River\"`).\n",
        "- Convert the string to lowercase and then to uppercase.\n",
        "- Concatenate the string with the name of the country (e.g., `\"Brazil\"`) to create a full location name.\n",
        "- Repeat the string three times, separating each repetition with a dash (`-`)."
      ]
    },
    {
      "cell_type": "code",
      "execution_count": 1,
      "id": "2",
      "metadata": {
        "colab": {
          "base_uri": "https://localhost:8080/"
        },
        "id": "2",
        "outputId": "94f57c57-c788-43af-8cb2-4dc8041a0823"
      },
      "outputs": [
        {
          "output_type": "stream",
          "name": "stdout",
          "text": [
            "amazon river\n",
            "AMAZON RIVER\n",
            "Amazon River Brazil, \n",
            "Amazon River Brazil, Amazon River Brazil, Amazon River Brazil, \n"
          ]
        }
      ],
      "source": [
        "name = \"Amazon River\"\n",
        "lower_case = name.lower()\n",
        "upper_case = name.upper()\n",
        "full_name = name + \" Brazil, \"\n",
        "repeated_name = full_name * 3\n",
        "print(lower_case)\n",
        "print(upper_case)\n",
        "print(full_name)\n",
        "print(repeated_name)"
      ]
    },
    {
      "cell_type": "markdown",
      "id": "3",
      "metadata": {
        "id": "3"
      },
      "source": [
        "## Exercise 2: Extracting and Formatting Coordinates\n",
        "\n",
        "- Given a string with the format `\"latitude, longitude\"` (e.g., `\"40.7128N, 74.0060W\"`), extract the numeric values of latitude and longitude.\n",
        "- Convert these values to floats and remove the directional indicators (`N`, `S`, `E`, `W`).\n",
        "- Format the coordinates into a `POINT` WKT string (e.g., `\"POINT(-74.0060 40.7128)\"`)."
      ]
    },
    {
      "cell_type": "code",
      "execution_count": 3,
      "id": "4",
      "metadata": {
        "colab": {
          "base_uri": "https://localhost:8080/"
        },
        "id": "4",
        "outputId": "9e16fe06-36ac-47ad-8bfa-83a480302c34"
      },
      "outputs": [
        {
          "output_type": "stream",
          "name": "stdout",
          "text": [
            "POINT(-74.006 40.7128)\n"
          ]
        }
      ],
      "source": [
        "latitude = \"40.7128N\"\n",
        "longitude = \"74.0060W\"\n",
        "\n",
        "lat = float(latitude[:-1])\n",
        "lon = float(longitude[:-1])\n",
        "\n",
        "# Adjust sign based on direction\n",
        "if latitude[-1] == 'S':\n",
        "    lat = -lat\n",
        "if longitude[-1] == 'W':\n",
        "    lon = -lon\n",
        "\n",
        "# Format into WKT POINT\n",
        "wkt_point = f\"POINT({lon} {lat})\"\n",
        "print(wkt_point)"
      ]
    },
    {
      "cell_type": "markdown",
      "id": "5",
      "metadata": {
        "id": "5"
      },
      "source": [
        "## Exercise 3: Building Dynamic SQL Queries\n",
        "\n",
        "- Given a table name and a condition, dynamically build an SQL query string.\n",
        "- Example: If `table_name = \"cities\"` and `condition = \"population > 1000000\"`, the query should be `\"SELECT * FROM cities WHERE population > 1000000;\"`.\n",
        "- Add additional conditions dynamically, like `AND` clauses."
      ]
    },
    {
      "cell_type": "code",
      "execution_count": 4,
      "id": "6",
      "metadata": {
        "colab": {
          "base_uri": "https://localhost:8080/"
        },
        "id": "6",
        "outputId": "dddbf7ae-ac66-4321-dc1e-b594a2c04776"
      },
      "outputs": [
        {
          "output_type": "stream",
          "name": "stdout",
          "text": [
            "SELECT * FROM cities WHERE population > 1000000\n"
          ]
        }
      ],
      "source": [
        "table_name = \"cities\"\n",
        "condition = \"population > 1000000\"\n",
        "query = f\"SELECT * FROM {table_name} WHERE {condition}\"\n",
        "print (query)"
      ]
    },
    {
      "cell_type": "markdown",
      "id": "7",
      "metadata": {
        "id": "7"
      },
      "source": [
        "## Exercise 4: String Normalization and Cleaning\n",
        "\n",
        "- Given a list of city names with inconsistent formatting (e.g., `[\" new york \", \"Los ANGELES\", \"   CHICAGO\"]`), normalize the names by:\n",
        "  - Stripping any leading or trailing whitespace.\n",
        "  - Converting them to title case (e.g., `\"New York\"`, `\"Los Angeles\"`, `\"Chicago\"`).\n",
        "- Ensure that the output is a clean list of city names."
      ]
    },
    {
      "cell_type": "code",
      "execution_count": 5,
      "id": "8",
      "metadata": {
        "colab": {
          "base_uri": "https://localhost:8080/"
        },
        "id": "8",
        "outputId": "f707648a-62ca-48d6-d2e9-366e8c6ac778"
      },
      "outputs": [
        {
          "output_type": "stream",
          "name": "stdout",
          "text": [
            "['New York', 'Los Angeles', 'Chicago']\n"
          ]
        }
      ],
      "source": [
        "city_names = [\" new york \", \"Los ANGELES\", \" CHICAGO\"]\n",
        "clean_city_names = [city.strip().title() for city in city_names]\n",
        "print (clean_city_names)"
      ]
    },
    {
      "cell_type": "markdown",
      "id": "9",
      "metadata": {
        "id": "9"
      },
      "source": [
        "## Exercise 5: Parsing and Extracting Address Information\n",
        "\n",
        "- Given a string in the format `\"Street, City, Country\"` (e.g., `\"123 Main St, Springfield, USA\"`), write a function that parses the string into a dictionary with keys `street`, `city`, and `country`.\n",
        "- The function should return a dictionary like `{\"street\": \"123 Main St\", \"city\": \"Springfield\", \"country\": \"USA\"}`."
      ]
    },
    {
      "cell_type": "code",
      "execution_count": 6,
      "id": "10",
      "metadata": {
        "colab": {
          "base_uri": "https://localhost:8080/"
        },
        "id": "10",
        "outputId": "ee4506ef-e9a5-4415-f0d6-7b0e76cd795c"
      },
      "outputs": [
        {
          "output_type": "stream",
          "name": "stdout",
          "text": [
            "Street: 123 Main St, City: Springfield, Country: USA\n"
          ]
        }
      ],
      "source": [
        "address = \"123 Main St, Springfield, USA\"\n",
        "street, city, country = address.split(\", \")\n",
        "print(f\"Street: {street}, City: {city}, Country: {country}\")"
      ]
    },
    {
      "cell_type": "markdown",
      "id": "11",
      "metadata": {
        "id": "11"
      },
      "source": [
        "## Exercise 6: Using For Loops to Process Coordinate Lists\n",
        "\n",
        "- Create a list of tuples representing coordinates (latitude, longitude).\n",
        "- Write a `for` loop that prints each coordinate and indicates whether it is in the Northern or Southern Hemisphere based on the latitude."
      ]
    },
    {
      "cell_type": "code",
      "execution_count": 6,
      "id": "12",
      "metadata": {
        "colab": {
          "base_uri": "https://localhost:8080/"
        },
        "id": "12",
        "outputId": "760ae33e-79c9-42cd-a070-64d522fcfbc8"
      },
      "outputs": [
        {
          "output_type": "stream",
          "name": "stdout",
          "text": [
            "Coordinate: (35.6895, 139.6917) is in the Northern Hemisphere\n",
            "Coordinate: (34.0522, -118.2437) is in the Northern Hemisphere\n",
            "Coordinate: (51.5074, -0.1278) is in the Northern Hemisphere\n",
            "Coordinate: (-40.7128, -74.006) is in the Southern Hemisphere\n",
            "Coordinate: (52.52, 13.405) is in the Northern Hemisphere\n"
          ]
        }
      ],
      "source": [
        "coordinates = [\n",
        "    (35.6895, 139.6917),\n",
        "    (34.0522, -118.2437),\n",
        "    (51.5074, -0.1278),\n",
        "    (-40.7128, -74.0060),\n",
        "    (52.5200, 13.4050)\n",
        "]\n",
        "\n",
        "for lat, lon in coordinates:\n",
        "    if lat >= 0:\n",
        "        hemisphere = \"Northern\"\n",
        "    else:\n",
        "        hemisphere = \"Southern\"\n",
        "    print(f\"Coordinate: ({lat}, {lon}) is in the {hemisphere} Hemisphere\")"
      ]
    },
    {
      "cell_type": "markdown",
      "id": "13",
      "metadata": {
        "id": "13"
      },
      "source": [
        "## Exercise 7: While Loops for Iterative Processing\n",
        "\n",
        "- Create a list of coordinates (latitude, longitude).\n",
        "- Write a `while` loop that continues to print each coordinate until it encounters a coordinate with a negative latitude.\n",
        "- Stop the loop once this condition is met."
      ]
    },
    {
      "cell_type": "code",
      "execution_count": 7,
      "id": "14",
      "metadata": {
        "colab": {
          "base_uri": "https://localhost:8080/"
        },
        "id": "14",
        "outputId": "f7f42fb3-1252-4f63-e6cb-e0def8001f08"
      },
      "outputs": [
        {
          "output_type": "stream",
          "name": "stdout",
          "text": [
            "(35.6895, 139.6917)\n",
            "(34.0522, -118.2437)\n",
            "(51.5074, -0.1278)\n"
          ]
        }
      ],
      "source": [
        "i = 0\n",
        "while i < len(coordinates):\n",
        "  if coordinates[i][0] < 0:\n",
        "    break\n",
        "  print(coordinates[i])\n",
        "  i += 1\n"
      ]
    },
    {
      "cell_type": "markdown",
      "id": "15",
      "metadata": {
        "id": "15"
      },
      "source": [
        "## Exercise 8: Conditional Logic in Loops\n",
        "\n",
        "- Create a list of coordinates and use a `for` loop to iterate over them.\n",
        "- Use an `if-elif-else` statement inside the loop to classify each coordinate based on its longitude:\n",
        "  - Print `\"Eastern Hemisphere\"` if the longitude is greater than 0.\n",
        "  - Print `\"Western Hemisphere\"` if the longitude is less than 0."
      ]
    },
    {
      "cell_type": "code",
      "execution_count": 11,
      "id": "16",
      "metadata": {
        "colab": {
          "base_uri": "https://localhost:8080/"
        },
        "id": "16",
        "outputId": "c939a28b-f9ac-4bfa-fa44-337922a3d050"
      },
      "outputs": [
        {
          "output_type": "stream",
          "name": "stdout",
          "text": [
            "Longitude 139.6917 is in the Eastern Hemisphere\n",
            "Longitude -118.2437 is in the Western Hemisphere\n",
            "Longitude -0.1278 is in the Western Hemisphere\n",
            "Longitude -74.006 is in the Western Hemisphere\n",
            "Longitude 13.405 is in the Eastern Hemisphere\n"
          ]
        }
      ],
      "source": [
        "for lat, lon in coordinates:\n",
        "  if lon > 0:\n",
        "    print(f\"Longitude {lon} is in the Eastern Hemisphere\")\n",
        "  elif lon < 0:\n",
        "    print(f\"Longitude {lon} is in the Western Hemisphere\")\n",
        "  else:\n",
        "    print(f\"Longitude {lon} is Near the equator\")"
      ]
    },
    {
      "cell_type": "markdown",
      "id": "17",
      "metadata": {
        "id": "17"
      },
      "source": [
        "## Exercise 9: Filtering Data with Combined Loops and Conditionals\n",
        "\n",
        "- Given a list of coordinates, filter out and store only those located in the Southern Hemisphere (latitude < 0).\n",
        "- Count the number of coordinates that meet this condition and print the result."
      ]
    },
    {
      "cell_type": "code",
      "execution_count": 13,
      "id": "18",
      "metadata": {
        "colab": {
          "base_uri": "https://localhost:8080/"
        },
        "id": "18",
        "outputId": "dc940ea6-93bc-4877-be93-a2c898a3d4ff"
      },
      "outputs": [
        {
          "output_type": "stream",
          "name": "stdout",
          "text": [
            "Number of coordinates in the Southern Hemisphere: 1\n"
          ]
        }
      ],
      "source": [
        "southern_coordinates = []\n",
        "for lat, lon in coordinates:\n",
        "    if lat < 0:\n",
        "        southern_coordinates.append((lat, lon))\n",
        "print(f\"Number of coordinates in the Southern Hemisphere: {len(southern_coordinates)}\")\n"
      ]
    },
    {
      "cell_type": "markdown",
      "id": "19",
      "metadata": {
        "id": "19"
      },
      "source": [
        "## Exercise 10: Generating and Analyzing Random Coordinates\n",
        "\n",
        "- Write a program that generates random coordinates (latitude between [-90, 90] degrees and longitude between [-180, 180] degrees).\n",
        "- Use a `while` loop to keep generating coordinates until a pair with both latitude and longitude greater than 50 is generated.\n",
        "- Print each generated coordinate and the final coordinate that meets the condition."
      ]
    },
    {
      "cell_type": "code",
      "execution_count": 14,
      "id": "20",
      "metadata": {
        "colab": {
          "base_uri": "https://localhost:8080/"
        },
        "id": "20",
        "outputId": "687a607d-26df-4c01-b3bd-257ad85c8470"
      },
      "outputs": [
        {
          "output_type": "stream",
          "name": "stdout",
          "text": [
            "Generated coordinate: Latitude = 41.59, Longitude = 15.63\n",
            "Generated coordinate: Latitude = 10.05, Longitude = -152.46\n",
            "Generated coordinate: Latitude = 84.66, Longitude = 109.92\n",
            "Final coordinate (meeting condition): Latitude = 84.66, Longitude = 109.92\n"
          ]
        }
      ],
      "source": [
        "import random\n",
        "\n",
        "def generate_coordinates():\n",
        "    while True:\n",
        "        latitude = random.uniform(-90, 90)\n",
        "        longitude = random.uniform(-180, 180)\n",
        "        print(f\"Generated coordinate: Latitude = {latitude:.2f}, Longitude = {longitude:.2f}\")\n",
        "        if latitude > 50 and longitude > 50:\n",
        "            print(f\"Final coordinate (meeting condition): Latitude = {latitude:.2f}, Longitude = {longitude:.2f}\")\n",
        "            break\n",
        "\n",
        "generate_coordinates()"
      ]
    }
  ],
  "metadata": {
    "kernelspec": {
      "display_name": "Python 3",
      "language": "python",
      "name": "python3"
    },
    "language_info": {
      "codemirror_mode": {
        "name": "ipython",
        "version": 3
      },
      "file_extension": ".py",
      "mimetype": "text/x-python",
      "name": "python",
      "nbconvert_exporter": "python",
      "pygments_lexer": "ipython3",
      "version": "3.11.8"
    },
    "colab": {
      "provenance": []
    }
  },
  "nbformat": 4,
  "nbformat_minor": 5
}